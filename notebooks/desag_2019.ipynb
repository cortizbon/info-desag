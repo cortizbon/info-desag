{
  "cells": [
    {
      "cell_type": "code",
      "execution_count": null,
      "metadata": {
        "id": "4LeLPJFOwTUp"
      },
      "outputs": [],
      "source": [
        "import pandas as pd\n",
        "import json\n",
        "import numpy as np\n",
        "import re"
      ]
    },
    {
      "cell_type": "code",
      "execution_count": null,
      "metadata": {
        "id": "sC5pMOSNwfnb"
      },
      "outputs": [],
      "source": [
        "df_2019 = pd.read_excel('2019.xlsx')"
      ]
    },
    {
      "cell_type": "code",
      "execution_count": null,
      "metadata": {
        "id": "_vwX1-pdwhxs"
      },
      "outputs": [],
      "source": [
        "def get_row_with_column_names(path, sheetname=0):\n",
        "    renglon = 0\n",
        "    df = pd.read_excel(path,\n",
        "                          sheet_name=sheetname,\n",
        "                          skiprows=renglon,\n",
        "                          nrows=10)\n",
        "    while \"CONCEPTO\" not in df.columns:\n",
        "\n",
        "        renglon += 1\n",
        "        df = pd.read_excel(path,\n",
        "                          sheet_name=sheetname,\n",
        "                          skiprows=renglon,\n",
        "                          nrows=10)\n",
        "    return renglon\n",
        "\n",
        "def reverse_dictio(dictio):\n",
        "  reversed_entities = {}\n",
        "  for key, value in dic_entities.items():\n",
        "    reversed_entities[value] = key\n",
        "\n",
        "  return reversed_entities\n",
        "\n",
        "# aplicar diccionario de entidades\n",
        "# filtro tres columnas\n",
        "# aplicar función con apply\n",
        "# reversed entities\n",
        "\n",
        "# ffill concepto\n",
        "# aplicar diccionario de sectores\n",
        "# ffill number\n",
        "# eliminar seccion\n",
        "# rename columns\n",
        "\n",
        "dic = {'A.  PRESUPUESTO DE FUNCIONAMIENTO': 'FUNCIONAMIENTO',\n",
        " 'B.  PRESUPUESTO DE SERVICIO DE LA DEUDA PUBLICA': 'DEUDA',\n",
        "'B.  PRESUPUESTO DE SERVICIO DE LA DEUDA PÚBLICA': 'DEUDA',\n",
        "\n",
        " 'C.  PRESUPUESTO DE INVERSION': 'INVERSION'}\n",
        "\n",
        "with open(\"dic_entities.json\", 'r') as de:\n",
        "  dic_entities = json.load(de)\n",
        "\n",
        "with open(\"dic_sector.json\", 'r') as de:\n",
        "  dic_sector = json.load(de)\n",
        "\n",
        "with open(\"dic_sec_ents.json\", 'r') as de:\n",
        "  dic_sec_ents = json.load(de)\n",
        "\n",
        "with open(\"dic_tipo_gasto.json\", 'r') as de:\n",
        "  dic_tipo_gasto = json.load(de)\n",
        "\n",
        "dic_cuentas = {0:'subproyecto',\n",
        "               1:'proyecto',\n",
        "               2:'subcuenta',\n",
        "               3:'cuenta'}"
      ]
    },
    {
      "cell_type": "code",
      "execution_count": null,
      "metadata": {
        "id": "-mMLXh7Rwmzk"
      },
      "outputs": [],
      "source": [
        "dic_sector_rev = reverse_dictio(dic_sector)"
      ]
    },
    {
      "cell_type": "code",
      "execution_count": null,
      "metadata": {
        "colab": {
          "base_uri": "https://localhost:8080/"
        },
        "id": "YURiH1Q3wnY_",
        "outputId": "4369bbb5-43e1-4dc0-871c-f5ededef0441"
      },
      "outputs": [
        {
          "name": "stdout",
          "output_type": "stream",
          "text": [
            "Error\n"
          ]
        }
      ],
      "source": [
        "renglon = get_row_with_column_names('2019.xlsx')\n",
        "\n",
        "df = pd.read_excel('2019.xlsx',\n",
        "                     sheet_name=0, skiprows=renglon)\n",
        "#df = df.iloc[1630: 2322]\n",
        "\n",
        "\n",
        "for col in df.iloc[::, -3:].columns:\n",
        "  df.loc[::, col] = df.loc[::, col].str.replace(',', '').astype(float)\n",
        "\n",
        "df.columns = [s.strip() for s in df.columns]\n",
        "\n",
        "df = df[~(df['CTA  \\nPROG'].isna()) | ~(df['CONCEPTO'].isna())]\n",
        "\n",
        "\n",
        "\n",
        "rev_entities = reverse_dictio(dic_entities)\n",
        "\n",
        "try:\n",
        "  df.drop(columns=['Unnamed: 0', 'Unnamed: 1'], inplace=True)\n",
        "except:\n",
        "  print('Error')\n",
        "\n",
        "df['CONCEPTO'] = df['CONCEPTO'].str.capitalize().str.strip()\n",
        "df['CONCEPTO'] = df['CONCEPTO'].fillna(method='ffill')\n",
        "df['Código de entidad'] = df['CONCEPTO'].map(rev_entities)\n",
        "df['Tipo de gasto'] = df['CONCEPTO'].str.extract(pat=\"([ABC]{1}\\..*)\")[0]\n",
        "\n"
      ]
    },
    {
      "cell_type": "code",
      "execution_count": null,
      "metadata": {
        "id": "lQ6lVQTiwqjp"
      },
      "outputs": [],
      "source": [
        "df.reset_index(drop=True, inplace=True)"
      ]
    },
    {
      "cell_type": "code",
      "execution_count": null,
      "metadata": {
        "id": "JTFU6Iuiwr2z"
      },
      "outputs": [],
      "source": [
        "for idx, row in df.iterrows():\n",
        "  cuenta = row['CTA  \\nPROG']\n",
        "  subcuenta = row['SUBC\\nSUBP']\n",
        "  proyecto = row['OBJG PROY']\n",
        "  subproyecto = row['ORD  \\nSPRY']\n",
        "  concepto = row['CONCEPTO']\n",
        "\n",
        "  if not pd.isna(subcuenta) and pd.isna(proyecto) and not pd.isna(subproyecto):\n",
        "    ls = concepto.split('/')\n",
        "    a = ls[0]\n",
        "    b = ls[1]\n",
        "    df.loc[idx, 'OBJG PROY'] = ls[0]\n",
        "    df.loc[idx, 'ORD  \\nSPRY'] = ls[1]"
      ]
    },
    {
      "cell_type": "code",
      "execution_count": null,
      "metadata": {
        "id": "0_C1tXtm2bJj"
      },
      "outputs": [],
      "source": [
        "# diccionario de entidades\n",
        "\n",
        "df2 = df.copy()\n",
        "\n",
        "df2['seccion'] = df2['CONCEPTO'].str.extract(pat=\"(^Seccion:[\\s]+\\d{4})\")[0]\n",
        "df2['Código de entidad'] = df2['seccion'].str.extract(pat=\"(\\d{4}$)\")\n",
        "df2['Entidad'] = None\n",
        "for idx, row in df2.iterrows():\n",
        "  try:\n",
        "    if not pd.isna(row['Código de entidad']):\n",
        "      df2.loc[idx, 'Entidad'] = df2.loc[idx + 1, 'CONCEPTO']\n",
        "  except:\n",
        "    print('error', idx)\n",
        "info_ents = df2[['Código de entidad', 'Entidad']].dropna().reset_index(drop=True)\n",
        "info_ents['Código de entidad'] = info_ents['Código de entidad'].astype(int).astype(str)\n",
        "ents_2019 = dict(info_ents.set_index('Código de entidad').to_records())\n",
        "\n",
        "with open('ents_2019.json', \"w\") as f:\n",
        "  json.dump(ents_2019, f)"
      ]
    },
    {
      "cell_type": "code",
      "execution_count": null,
      "metadata": {
        "colab": {
          "base_uri": "https://localhost:8080/"
        },
        "id": "GgMYWSDWwuth",
        "outputId": "5e2aa5b6-dc08-43c7-e086-62c583207b70"
      },
      "outputs": [
        {
          "name": "stdout",
          "output_type": "stream",
          "text": [
            "Index(['CTA  \\nPROG', 'SUBC\\nSUBP', 'OBJG PROY', 'ORD  \\nSPRY', 'REC',\n",
            "       'CONCEPTO', 'APORTE \\nNACIONAL', 'RECURSOS PROPIOS', 'TOTAL',\n",
            "       'Código de entidad', 'Tipo de gasto', 'seccion', 'Entidad',\n",
            "       'Código de sector', 'Sector', 'nans', 'Tipo de cuenta', 'Unidad',\n",
            "       'Código de unidad'],\n",
            "      dtype='object')\n"
          ]
        },
        {
          "name": "stderr",
          "output_type": "stream",
          "text": [
            "<ipython-input-202-005a3d483831>:31: SettingWithCopyWarning: \n",
            "A value is trying to be set on a copy of a slice from a DataFrame.\n",
            "Try using .loc[row_indexer,col_indexer] = value instead\n",
            "\n",
            "See the caveats in the documentation: https://pandas.pydata.org/pandas-docs/stable/user_guide/indexing.html#returning-a-view-versus-a-copy\n",
            "  df['Nombre de cuenta'] = df.apply(funcion, axis=1)\n"
          ]
        }
      ],
      "source": [
        "df['seccion'] = df['CONCEPTO'].str.extract(pat=\"(^Seccion:[\\s]+\\d{4})\")[0]\n",
        "df['seccion'].ffill(inplace=True)\n",
        "\n",
        "df['Código de entidad'] = df['seccion'].str.extract(pat=\"(\\d{4}$)\").astype(\"Int64\").astype(str)\n",
        "df['Entidad'] = df['Código de entidad'].map(dic_entities)\n",
        "df['Código de sector'] = df['Código de entidad'].map(dic_sec_ents).astype(\"Int64\").astype(str)\n",
        "df['Sector'] = df['Código de sector'].map(dic_sector)\n",
        "\n",
        "dic_cuentas = {0:'subproyecto',\n",
        "               1:'proyecto',\n",
        "               2:'subcuenta',\n",
        "               3:'cuenta'}\n",
        "\n",
        "df['nans'] = df[['CTA  \\nPROG', 'SUBC\\nSUBP', 'OBJG PROY', 'ORD  \\nSPRY']].isna().sum(axis=1)\n",
        "df['Tipo de cuenta'] = df['nans'].map(dic_cuentas)\n",
        "\n",
        "df['Entidad'].fillna(method='ffill', inplace=True)\n",
        "df['Código de sector'].fillna(method='ffill', inplace=True)\n",
        "\n",
        "df['Unidad'] = df['CONCEPTO'].str.extract(pat=\"(Unidad: \\d{6})\")[0]\n",
        "df['Código de unidad'] = df['Unidad'].str.extract(pat=\"(\\d{6})\")[0]\n",
        "print(df.columns)\n",
        "df = df[df['REC'].isna()]\n",
        "\n",
        "def funcion(row):\n",
        "  if not pd.isna(row['Tipo de cuenta']):\n",
        "    return row['CONCEPTO']\n",
        "  else:\n",
        "    return np.nan\n",
        "\n",
        "df['Nombre de cuenta'] = df.apply(funcion, axis=1)\n",
        "\n",
        "dic_unidades = {}\n",
        "df.reset_index(drop=True, inplace=True)\n",
        "for idx, row in df.iterrows():\n",
        "  if not pd.isna(row['Unidad']):\n",
        "    df.loc[idx, 'Unidad'] = df.loc[idx + 1, 'CONCEPTO']\n",
        "\n",
        "df['Tipo de gasto'].ffill(inplace=True)\n",
        "#df['Unidad'].ffill(inplace=True)\n",
        "#df['Código de unidad'].ffill(inplace=True)\n",
        "\n",
        "#df['TOTAL'] = df['TOTAL'].str.replace(',','_').astype(float)\n",
        "df['Cuenta_n'] = df['CTA  \\nPROG']\n",
        "df.drop(columns='REC', inplace=True)\n",
        "\n",
        "dic_cuentas = df[df['Tipo de cuenta'] == 'cuenta'][['CTA  \\nPROG', 'CONCEPTO']].drop_duplicates().set_index('CTA  \\nPROG').to_dict()['CONCEPTO']\n",
        "df['CTA  \\nPROG'] = df['CTA  \\nPROG'].map(dic_cuentas)\n",
        "df['seleccion'] = None"
      ]
    },
    {
      "cell_type": "code",
      "execution_count": null,
      "metadata": {
        "id": "19WWbFV3wvH-"
      },
      "outputs": [],
      "source": [
        "dic_unidades = dict(df[['Código de unidad', 'Unidad']].drop_duplicates().set_index('Código de unidad').to_records())\n",
        "\n",
        "with open('units_2019.json', 'w') as f:\n",
        "  json.dump(dic_unidades, f)"
      ]
    },
    {
      "cell_type": "code",
      "execution_count": null,
      "metadata": {
        "id": "Ray85QRRwwhz"
      },
      "outputs": [],
      "source": [
        "df['Tipo de gasto'] = df['Tipo de gasto'].str.split(' ').str[1].str.capitalize()\n",
        "df.loc[df['Tipo de gasto'] == 'Servicio', 'Tipo de gasto'] = 'Deuda'"
      ]
    },
    {
      "cell_type": "code",
      "execution_count": null,
      "metadata": {
        "id": "BwO8Npe1wy6C"
      },
      "outputs": [],
      "source": [
        "df['Subcuenta_n'] = df['SUBC\\nSUBP']\n",
        "df['Objeto_n'] = df['OBJG PROY']\n",
        "df['Ordinal_n'] = df['ORD  \\nSPRY']"
      ]
    },
    {
      "cell_type": "code",
      "execution_count": null,
      "metadata": {
        "id": "QGQ34q1Gw0t7"
      },
      "outputs": [],
      "source": [
        "df.reset_index(drop=True, inplace=True)"
      ]
    },
    {
      "cell_type": "code",
      "execution_count": null,
      "metadata": {
        "colab": {
          "base_uri": "https://localhost:8080/"
        },
        "id": "x2SUA00uw2rw",
        "outputId": "962f1ad5-86d8-4956-d94a-e1f38d7507f5"
      },
      "outputs": [
        {
          "name": "stdout",
          "output_type": "stream",
          "text": [
            "{600.0: 'Intersubsectorial transporte'}\n"
          ]
        }
      ],
      "source": [
        "for value in df['CTA  \\nPROG'].dropna().unique():\n",
        "\n",
        "\n",
        "  # slice por cuenta\n",
        "  filtro = df[df['CTA  \\nPROG'] == value]\n",
        "  dic_subcuenta = filtro[filtro['Tipo de cuenta'] == 'subcuenta'][['SUBC\\nSUBP', 'CONCEPTO']].dropna().set_index('SUBC\\nSUBP').to_dict()['CONCEPTO']\n",
        "  df.loc[filtro.index, 'SUBC\\nSUBP'] = filtro['SUBC\\nSUBP'].map(dic_subcuenta)\n",
        "  df.loc[filtro.index, 'seleccion'] = filtro['nans'].min()\n",
        "  if value == 'Infraestructura de transporte férreo':\n",
        "    print(dic_subcuenta)\n",
        "\n",
        "\n",
        "  for value2 in filtro['SUBC\\nSUBP'].dropna().unique():\n",
        "\n",
        "    filtro2 = filtro[filtro['SUBC\\nSUBP'] == value2]\n",
        "    dic_proyecto = filtro2[filtro2['Tipo de cuenta'] == 'proyecto'][['OBJG PROY', 'CONCEPTO']].dropna().set_index('OBJG PROY').to_dict()['CONCEPTO']\n",
        "    if value2 == 'Intersubsectorial transporte':\n",
        "      print(dic_proyecto)\n",
        "\n",
        "    try:\n",
        "      df.loc[filtro2.index, 'OBJG PROY'] = filtro2['OBJG PROY'].map(dic_proyecto)\n",
        "    except:\n",
        "      print(value, value2)\n",
        "      #print(filtro2['OBJG PROY'].map(dic_proyecto))\n",
        "\n",
        "\n",
        "\n",
        "\n",
        "    df.loc[filtro2.index, 'seleccion'] = filtro2['nans'].min()\n",
        "    for value3 in filtro2['OBJG PROY'].dropna().unique():\n",
        "\n",
        "      filtro3 = filtro2[filtro2['OBJG PROY'] == value3]\n",
        "      dic_subproyecto = filtro3[filtro3['Tipo de cuenta'] == 'subproyecto'][['ORD  \\nSPRY', 'CONCEPTO']].dropna().set_index('ORD  \\nSPRY').to_dict()['CONCEPTO']\n",
        "      df.loc[filtro3.index, 'ORD  \\nSPRY'] = filtro3['ORD  \\nSPRY'].map(dic_subproyecto)\n",
        "      df.loc[filtro3.index, 'seleccion'] = filtro3['nans'].min()\n"
      ]
    },
    {
      "cell_type": "code",
      "execution_count": null,
      "metadata": {
        "id": "b6y7vNILw7XT"
      },
      "outputs": [],
      "source": [
        "df = df[df['seleccion'] == df['nans']]"
      ]
    },
    {
      "cell_type": "code",
      "execution_count": null,
      "metadata": {
        "id": "_N4kR12bw80m"
      },
      "outputs": [],
      "source": [
        "df = (df\n",
        "      .drop(columns=['seccion', 'nans', 'Tipo de cuenta', 'Nombre de cuenta', 'seleccion', 'CONCEPTO'])\n",
        "      .rename(columns={'CTA  \\nPROG':'Cuenta',\n",
        "               'SUBC\\nSUBP': 'Subcuenta',\n",
        "               'OBJG PROY': 'Objeto',\n",
        "               'ORD  \\nSPRY': 'Ordinal',\n",
        "               'APORTE\\nNACIONAL': 'Aporte nacional',\n",
        "               'RECURSOS \\nPROPIOS': 'Recursos propios'}))"
      ]
    },
    {
      "cell_type": "code",
      "execution_count": null,
      "metadata": {
        "id": "svy1ndjNw-cs"
      },
      "outputs": [],
      "source": [
        "df.reset_index(drop=True, inplace=True)"
      ]
    },
    {
      "cell_type": "code",
      "execution_count": null,
      "metadata": {
        "colab": {
          "base_uri": "https://localhost:8080/"
        },
        "id": "0CMuiLoMw_if",
        "outputId": "b9cf0730-fc79-45a0-d71a-3bb758b5acd0"
      },
      "outputs": [
        {
          "data": {
            "text/plain": [
              "258997305209927.0"
            ]
          },
          "execution_count": 211,
          "metadata": {},
          "output_type": "execute_result"
        }
      ],
      "source": [
        "df['TOTAL'].sum()"
      ]
    },
    {
      "cell_type": "code",
      "execution_count": null,
      "metadata": {
        "id": "JSfesYJMxBJG"
      },
      "outputs": [],
      "source": [
        "gastos = pd.read_csv('gastos.csv')\n",
        "gastos = gastos[gastos['Año'] == 2019]"
      ]
    },
    {
      "cell_type": "code",
      "execution_count": null,
      "metadata": {
        "id": "K9-7Y5oh5lE1"
      },
      "outputs": [],
      "source": [
        "df['Código de entidad'] = df['Código de entidad'].astype(str)"
      ]
    },
    {
      "cell_type": "code",
      "execution_count": null,
      "metadata": {
        "id": "OYoleGSh5N2Z"
      },
      "outputs": [],
      "source": [
        "# corrección de nombres\n",
        "df.loc[df['Sector'].isna(), 'Entidad'] = df.loc[df['Sector'].isna(), 'Código de entidad'].map(ents_2019)\n",
        "# corrección de código de entidad con reverse_entities\n",
        "df.loc[df['Sector'].isna(), 'Código de entidad'] = df.loc[df['Sector'].isna(), 'Entidad'].map(rev_entities)\n",
        "# extracción de código de sector\n",
        "df.loc[df['Sector'].isna(), 'Código de sector'] = df.loc[df['Sector'].isna(), 'Código de entidad'].map(dic_sec_ents)\n",
        "# extracción de sector\n",
        "df.loc[df['Sector'].isna(), 'Sector'] = df.loc[df['Sector'].isna(), 'Código de sector'].astype(str).map(dic_sector)\n"
      ]
    },
    {
      "cell_type": "code",
      "execution_count": null,
      "metadata": {
        "id": "MEuXqNh98gj4"
      },
      "outputs": [],
      "source": [
        "df.loc[df['Tipo de gasto'] == 'Inversion', 'Tipo de gasto'] = 'Inversión'"
      ]
    },
    {
      "cell_type": "code",
      "execution_count": null,
      "metadata": {
        "id": "6kfPU2dKxCSZ"
      },
      "outputs": [],
      "source": [
        "df.to_csv('datos_desag_2019_cuentas.csv', index=False)"
      ]
    },
    {
      "cell_type": "code",
      "execution_count": null,
      "metadata": {
        "id": "x2URXb7IxHFJ"
      },
      "outputs": [],
      "source": [
        "nvls = df[['Cuenta', 'Subcuenta', 'Objeto', 'Ordinal', 'Cuenta_n', 'Subcuenta_n', 'Objeto_n', 'Ordinal_n']].drop_duplicates()"
      ]
    },
    {
      "cell_type": "code",
      "execution_count": null,
      "metadata": {
        "id": "3843yFxwxIz5"
      },
      "outputs": [],
      "source": [
        "dic_total = {}\n",
        "for key, value in dic_cuentas.items():\n",
        "  dic_subcuentas = {}\n",
        "  filtro = nvls[nvls['Cuenta_n'] == key]\n",
        "  lista_subcuentas = dict(filtro[['Subcuenta_n', 'Subcuenta']].dropna().set_index('Subcuenta_n').to_records())\n",
        "  if len(lista_subcuentas.values()) > 0:\n",
        "    print('Subcuentas', lista_subcuentas)\n",
        "    for key_sub, subcuenta in lista_subcuentas.items():\n",
        "      filtro_subcuentas = filtro[filtro['Subcuenta_n'] == key_sub]\n",
        "      lista_objetos = dict(filtro_subcuentas[['Objeto_n', 'Objeto']].dropna().set_index('Objeto_n').to_records())\n",
        "      if len(lista_objetos.values()) > 0:\n",
        "        print('Objetos', lista_objetos)\n",
        "        dic_objetos = {}\n",
        "        for key_obj, objeto in lista_objetos.items():\n",
        "          filtro_objetos = filtro_subcuentas[filtro_subcuentas['Objeto_n'] == key_obj]\n",
        "          lista_ordinal = dict(filtro_objetos[['Ordinal_n', 'Ordinal']].dropna().set_index('Ordinal_n').to_records())\n",
        "          if len(lista_ordinal.values()) > 0:\n",
        "            print(\"Ordinal\", lista_ordinal)\n",
        "          dic_objetos[key_obj] = [objeto, lista_ordinal]\n",
        "      dic_subcuentas[key_sub] = [subcuenta, dic_objetos]\n",
        "  dic_total[key] = [value, dic_subcuentas]"
      ]
    }
  ],
  "metadata": {
    "colab": {
      "provenance": []
    },
    "kernelspec": {
      "display_name": "Python 3",
      "name": "python3"
    },
    "language_info": {
      "name": "python"
    }
  },
  "nbformat": 4,
  "nbformat_minor": 0
}
