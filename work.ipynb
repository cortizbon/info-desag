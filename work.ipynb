{
 "cells": [
  {
   "cell_type": "code",
   "execution_count": 36,
   "metadata": {},
   "outputs": [],
   "source": [
    "import pandas as pd"
   ]
  },
  {
   "cell_type": "code",
   "execution_count": 70,
   "metadata": {},
   "outputs": [],
   "source": [
    "df19 = pd.read_csv('notebooks/datos_desag_2019_cuentas.csv')\n",
    "df24 = pd.read_csv('notebooks/datos_desag_2024_cuentas.csv')\n",
    "ipc = pd.read_csv('notebooks/ipc_basic.csv')"
   ]
  },
  {
   "cell_type": "code",
   "execution_count": 71,
   "metadata": {},
   "outputs": [],
   "source": [
    "ipc = ipc[['Año', 'Indice']]"
   ]
  },
  {
   "cell_type": "code",
   "execution_count": 72,
   "metadata": {},
   "outputs": [],
   "source": [
    "filtro = ipc[ipc['Año'].isin([2019, 2024])]\n",
    "#filtro['Año'] += 1"
   ]
  },
  {
   "cell_type": "code",
   "execution_count": 73,
   "metadata": {},
   "outputs": [
    {
     "name": "stderr",
     "output_type": "stream",
     "text": [
      "C:\\Users\\user\\AppData\\Local\\Temp\\ipykernel_9744\\3823183924.py:1: SettingWithCopyWarning: \n",
      "A value is trying to be set on a copy of a slice from a DataFrame.\n",
      "Try using .loc[row_indexer,col_indexer] = value instead\n",
      "\n",
      "See the caveats in the documentation: https://pandas.pydata.org/pandas-docs/stable/user_guide/indexing.html#returning-a-view-versus-a-copy\n",
      "  filtro['Indice_24'] = filtro['Indice'] * 100 / (137.72)\n"
     ]
    }
   ],
   "source": [
    "filtro['Indice_24'] = filtro['Indice'] * 100 / (137.72)"
   ]
  },
  {
   "cell_type": "code",
   "execution_count": 74,
   "metadata": {},
   "outputs": [
    {
     "data": {
      "text/html": [
       "<div>\n",
       "<style scoped>\n",
       "    .dataframe tbody tr th:only-of-type {\n",
       "        vertical-align: middle;\n",
       "    }\n",
       "\n",
       "    .dataframe tbody tr th {\n",
       "        vertical-align: top;\n",
       "    }\n",
       "\n",
       "    .dataframe thead th {\n",
       "        text-align: right;\n",
       "    }\n",
       "</style>\n",
       "<table border=\"1\" class=\"dataframe\">\n",
       "  <thead>\n",
       "    <tr style=\"text-align: right;\">\n",
       "      <th></th>\n",
       "      <th>Año</th>\n",
       "      <th>Indice</th>\n",
       "      <th>Indice_24</th>\n",
       "    </tr>\n",
       "  </thead>\n",
       "  <tbody>\n",
       "    <tr>\n",
       "      <th>6</th>\n",
       "      <td>2019</td>\n",
       "      <td>100.00</td>\n",
       "      <td>72.611095</td>\n",
       "    </tr>\n",
       "    <tr>\n",
       "      <th>11</th>\n",
       "      <td>2024</td>\n",
       "      <td>137.72</td>\n",
       "      <td>100.000000</td>\n",
       "    </tr>\n",
       "  </tbody>\n",
       "</table>\n",
       "</div>"
      ],
      "text/plain": [
       "     Año  Indice   Indice_24\n",
       "6   2019  100.00   72.611095\n",
       "11  2024  137.72  100.000000"
      ]
     },
     "execution_count": 74,
     "metadata": {},
     "output_type": "execute_result"
    }
   ],
   "source": [
    "filtro"
   ]
  },
  {
   "cell_type": "code",
   "execution_count": 75,
   "metadata": {},
   "outputs": [
    {
     "data": {
      "text/plain": [
       "Index(['Cuenta', 'Subcuenta', 'Objeto', 'Ordinal', 'Aporte nacional',\n",
       "       'Recursos propios', 'TOTAL', 'Código de entidad', 'Tipo de gasto',\n",
       "       'Entidad', 'Código de sector', 'Sector', 'Unidad', 'Código de unidad',\n",
       "       'Cuenta_n', 'Subcuenta_n', 'Objeto_n', 'Ordinal_n'],\n",
       "      dtype='object')"
      ]
     },
     "execution_count": 75,
     "metadata": {},
     "output_type": "execute_result"
    }
   ],
   "source": [
    "df24.columns"
   ]
  },
  {
   "cell_type": "code",
   "execution_count": 76,
   "metadata": {},
   "outputs": [],
   "source": [
    "df19.columns = df24.columns"
   ]
  },
  {
   "cell_type": "code",
   "execution_count": 77,
   "metadata": {},
   "outputs": [],
   "source": [
    "df19['Año'] = 2019\n",
    "df24['Año'] = 2024"
   ]
  },
  {
   "cell_type": "code",
   "execution_count": 78,
   "metadata": {},
   "outputs": [],
   "source": [
    "df = pd.concat([df19, df24], ignore_index=True)"
   ]
  },
  {
   "cell_type": "code",
   "execution_count": 79,
   "metadata": {},
   "outputs": [],
   "source": [
    "df = df.merge(filtro[['Año', 'Indice_24']])"
   ]
  },
  {
   "cell_type": "code",
   "execution_count": 80,
   "metadata": {},
   "outputs": [],
   "source": [
    "df['Total_24'] = df['TOTAL'] / (df['Indice_24'] / 100)"
   ]
  },
  {
   "cell_type": "code",
   "execution_count": 81,
   "metadata": {},
   "outputs": [
    {
     "data": {
      "text/html": [
       "<div>\n",
       "<style scoped>\n",
       "    .dataframe tbody tr th:only-of-type {\n",
       "        vertical-align: middle;\n",
       "    }\n",
       "\n",
       "    .dataframe tbody tr th {\n",
       "        vertical-align: top;\n",
       "    }\n",
       "\n",
       "    .dataframe thead th {\n",
       "        text-align: right;\n",
       "    }\n",
       "</style>\n",
       "<table border=\"1\" class=\"dataframe\">\n",
       "  <thead>\n",
       "    <tr style=\"text-align: right;\">\n",
       "      <th>Año</th>\n",
       "      <th>2019</th>\n",
       "      <th>2024</th>\n",
       "      <th>diff</th>\n",
       "    </tr>\n",
       "    <tr>\n",
       "      <th>Tipo de gasto</th>\n",
       "      <th></th>\n",
       "      <th></th>\n",
       "      <th></th>\n",
       "    </tr>\n",
       "  </thead>\n",
       "  <tbody>\n",
       "    <tr>\n",
       "      <th>Deuda</th>\n",
       "      <td>7.152463e+13</td>\n",
       "      <td>9.452185e+13</td>\n",
       "      <td>2.299722e+13</td>\n",
       "    </tr>\n",
       "    <tr>\n",
       "      <th>Funcionamiento</th>\n",
       "      <td>2.206764e+14</td>\n",
       "      <td>3.082237e+14</td>\n",
       "      <td>8.754727e+13</td>\n",
       "    </tr>\n",
       "    <tr>\n",
       "      <th>Inversión</th>\n",
       "      <td>6.449006e+13</td>\n",
       "      <td>9.985131e+13</td>\n",
       "      <td>3.536125e+13</td>\n",
       "    </tr>\n",
       "  </tbody>\n",
       "</table>\n",
       "</div>"
      ],
      "text/plain": [
       "Año                     2019          2024          diff\n",
       "Tipo de gasto                                           \n",
       "Deuda           7.152463e+13  9.452185e+13  2.299722e+13\n",
       "Funcionamiento  2.206764e+14  3.082237e+14  8.754727e+13\n",
       "Inversión       6.449006e+13  9.985131e+13  3.536125e+13"
      ]
     },
     "execution_count": 81,
     "metadata": {},
     "output_type": "execute_result"
    }
   ],
   "source": [
    "df.pivot_table(index=['Tipo de gasto'],\n",
    "            columns='Año', values='Total_24', aggfunc='sum').assign(diff=lambda x: x[2024] - x[2019])"
   ]
  },
  {
   "cell_type": "code",
   "execution_count": 82,
   "metadata": {},
   "outputs": [],
   "source": [
    "sgp = df[(df['Cuenta'] == 'Transferencias corrientes') &\n",
    "   (df['Subcuenta'] == 'A entidades del gobierno') & \n",
    "   (df['Objeto'] == 'Sistema general de participaciones')]"
   ]
  },
  {
   "cell_type": "code",
   "execution_count": 118,
   "metadata": {},
   "outputs": [
    {
     "data": {
      "text/plain": [
       "163"
      ]
     },
     "execution_count": 118,
     "metadata": {},
     "output_type": "execute_result"
    }
   ],
   "source": [
    "df[df['Año'] == 2024]['Código de entidad'].nunique()"
   ]
  },
  {
   "cell_type": "code",
   "execution_count": 121,
   "metadata": {},
   "outputs": [
    {
     "data": {
      "text/html": [
       "<div>\n",
       "<style scoped>\n",
       "    .dataframe tbody tr th:only-of-type {\n",
       "        vertical-align: middle;\n",
       "    }\n",
       "\n",
       "    .dataframe tbody tr th {\n",
       "        vertical-align: top;\n",
       "    }\n",
       "\n",
       "    .dataframe thead th {\n",
       "        text-align: right;\n",
       "    }\n",
       "</style>\n",
       "<table border=\"1\" class=\"dataframe\">\n",
       "  <thead>\n",
       "    <tr style=\"text-align: right;\">\n",
       "      <th>Año</th>\n",
       "      <th>2019</th>\n",
       "      <th>2024</th>\n",
       "      <th>cagr</th>\n",
       "    </tr>\n",
       "    <tr>\n",
       "      <th>Ordinal</th>\n",
       "      <th></th>\n",
       "      <th></th>\n",
       "      <th></th>\n",
       "    </tr>\n",
       "  </thead>\n",
       "  <tbody>\n",
       "    <tr>\n",
       "      <th>Agua potable y saneamiento básico</th>\n",
       "      <td>2.932633e+14</td>\n",
       "      <td>3.624436e+14</td>\n",
       "      <td>4.326955</td>\n",
       "    </tr>\n",
       "    <tr>\n",
       "      <th>Fonpet - asignaciones especiales</th>\n",
       "      <td>NaN</td>\n",
       "      <td>2.281446e+14</td>\n",
       "      <td>NaN</td>\n",
       "    </tr>\n",
       "    <tr>\n",
       "      <th>Municipios de la ribera del río magdalena - asignaciones especiales</th>\n",
       "      <td>4.525669e+12</td>\n",
       "      <td>5.593265e+12</td>\n",
       "      <td>4.326955</td>\n",
       "    </tr>\n",
       "    <tr>\n",
       "      <th>Participación para educación - distribución previo concepto dnp</th>\n",
       "      <td>3.269535e+15</td>\n",
       "      <td>3.968590e+15</td>\n",
       "      <td>3.951326</td>\n",
       "    </tr>\n",
       "    <tr>\n",
       "      <th>Participación para propósito general</th>\n",
       "      <td>6.299731e+14</td>\n",
       "      <td>7.785825e+14</td>\n",
       "      <td>4.326955</td>\n",
       "    </tr>\n",
       "    <tr>\n",
       "      <th>Participación para salud - distribución previo concepto dnp</th>\n",
       "      <td>1.426951e+15</td>\n",
       "      <td>1.639420e+15</td>\n",
       "      <td>2.814948</td>\n",
       "    </tr>\n",
       "    <tr>\n",
       "      <th>Programas de alimentación escolar - asignaciones especiales</th>\n",
       "      <td>2.828543e+13</td>\n",
       "      <td>3.495791e+13</td>\n",
       "      <td>4.326955</td>\n",
       "    </tr>\n",
       "    <tr>\n",
       "      <th>Resguardos indígenas - asignaciones especiales</th>\n",
       "      <td>2.941685e+13</td>\n",
       "      <td>3.635622e+13</td>\n",
       "      <td>4.326955</td>\n",
       "    </tr>\n",
       "  </tbody>\n",
       "</table>\n",
       "</div>"
      ],
      "text/plain": [
       "Año                                                         2019  \\\n",
       "Ordinal                                                            \n",
       "Agua potable y saneamiento básico                   2.932633e+14   \n",
       "Fonpet - asignaciones especiales                             NaN   \n",
       "Municipios de la ribera del río magdalena - asi...  4.525669e+12   \n",
       "Participación para educación - distribución pre...  3.269535e+15   \n",
       "Participación para propósito general                6.299731e+14   \n",
       "Participación para salud - distribución previo ...  1.426951e+15   \n",
       "Programas de alimentación escolar - asignacione...  2.828543e+13   \n",
       "Resguardos indígenas - asignaciones especiales      2.941685e+13   \n",
       "\n",
       "Año                                                         2024      cagr  \n",
       "Ordinal                                                                     \n",
       "Agua potable y saneamiento básico                   3.624436e+14  4.326955  \n",
       "Fonpet - asignaciones especiales                    2.281446e+14       NaN  \n",
       "Municipios de la ribera del río magdalena - asi...  5.593265e+12  4.326955  \n",
       "Participación para educación - distribución pre...  3.968590e+15  3.951326  \n",
       "Participación para propósito general                7.785825e+14  4.326955  \n",
       "Participación para salud - distribución previo ...  1.639420e+15  2.814948  \n",
       "Programas de alimentación escolar - asignacione...  3.495791e+13  4.326955  \n",
       "Resguardos indígenas - asignaciones especiales      3.635622e+13  4.326955  "
      ]
     },
     "execution_count": 121,
     "metadata": {},
     "output_type": "execute_result"
    }
   ],
   "source": [
    "(sgp.pivot_table(index='Ordinal',\n",
    "                columns='Año',\n",
    "                values='Total_24',\n",
    "                aggfunc='sum')\n",
    "                .assign(cagr=lambda x: (x[2024]/x[2019]) ** (1/5) - 1) * 100)"
   ]
  },
  {
   "cell_type": "code",
   "execution_count": 122,
   "metadata": {},
   "outputs": [],
   "source": [
    "inc = pd.read_csv('ingresos_pgn.csv')"
   ]
  },
  {
   "cell_type": "code",
   "execution_count": 129,
   "metadata": {},
   "outputs": [
    {
     "data": {
      "text/plain": [
       "1209    1.993836e+14\n",
       "1896    3.174002e+14\n",
       "Name: Valor_24, dtype: float64"
      ]
     },
     "execution_count": 129,
     "metadata": {},
     "output_type": "execute_result"
    }
   ],
   "source": [
    "inc[inc['Año'].isin([2019, 2024]) & (inc['Ingreso_alt'] == 'INGRESOS CORRIENTES DE LA NACIÓN')]['Valor_24']"
   ]
  },
  {
   "cell_type": "code",
   "execution_count": 131,
   "metadata": {},
   "outputs": [
    {
     "data": {
      "text/plain": [
       "9.744699224323682"
      ]
     },
     "execution_count": 131,
     "metadata": {},
     "output_type": "execute_result"
    }
   ],
   "source": [
    "((3.174002e+14 / 1.993836e+14) ** (1/5) - 1 ) * 100"
   ]
  },
  {
   "cell_type": "code",
   "execution_count": 86,
   "metadata": {},
   "outputs": [],
   "source": [
    "sgp.loc[sgp['Ordinal'] == 'Municipios de la ribera del rio magdalena - asignaciones especiales', 'Ordinal'] = 'Municipios de la ribera del río magdalena - asignaciones especiales'"
   ]
  },
  {
   "cell_type": "code",
   "execution_count": 104,
   "metadata": {},
   "outputs": [],
   "source": [
    "func = df[(df['Tipo de gasto'] == 'Funcionamiento') & (df['Año'] == 2019)]"
   ]
  },
  {
   "cell_type": "code",
   "execution_count": 115,
   "metadata": {},
   "outputs": [
    {
     "data": {
      "text/html": [
       "<div>\n",
       "<style scoped>\n",
       "    .dataframe tbody tr th:only-of-type {\n",
       "        vertical-align: middle;\n",
       "    }\n",
       "\n",
       "    .dataframe tbody tr th {\n",
       "        vertical-align: top;\n",
       "    }\n",
       "\n",
       "    .dataframe thead th {\n",
       "        text-align: right;\n",
       "    }\n",
       "</style>\n",
       "<table border=\"1\" class=\"dataframe\">\n",
       "  <thead>\n",
       "    <tr style=\"text-align: right;\">\n",
       "      <th></th>\n",
       "      <th>Cuenta</th>\n",
       "      <th>Subcuenta</th>\n",
       "      <th>Objeto</th>\n",
       "      <th>Ordinal</th>\n",
       "      <th>Aporte nacional</th>\n",
       "      <th>Recursos propios</th>\n",
       "      <th>TOTAL</th>\n",
       "      <th>Código de entidad</th>\n",
       "      <th>Tipo de gasto</th>\n",
       "      <th>Entidad</th>\n",
       "      <th>...</th>\n",
       "      <th>Sector</th>\n",
       "      <th>Unidad</th>\n",
       "      <th>Código de unidad</th>\n",
       "      <th>Cuenta_n</th>\n",
       "      <th>Subcuenta_n</th>\n",
       "      <th>Objeto_n</th>\n",
       "      <th>Ordinal_n</th>\n",
       "      <th>Año</th>\n",
       "      <th>Indice_24</th>\n",
       "      <th>Total_24</th>\n",
       "    </tr>\n",
       "  </thead>\n",
       "  <tbody>\n",
       "    <tr>\n",
       "      <th>475</th>\n",
       "      <td>Transferencias corrientes</td>\n",
       "      <td>Prestaciones sociales</td>\n",
       "      <td>Prestaciones sociales asumidas por el gobierno</td>\n",
       "      <td>Fondo nacional de pensiones de las entidades t...</td>\n",
       "      <td>1.576380e+11</td>\n",
       "      <td>NaN</td>\n",
       "      <td>1.576380e+11</td>\n",
       "      <td>1301</td>\n",
       "      <td>Funcionamiento</td>\n",
       "      <td>Ministerio de hacienda y crédito público</td>\n",
       "      <td>...</td>\n",
       "      <td>Hacienda</td>\n",
       "      <td>NaN</td>\n",
       "      <td>NaN</td>\n",
       "      <td>3.0</td>\n",
       "      <td>4.0</td>\n",
       "      <td>3.0</td>\n",
       "      <td>1.0</td>\n",
       "      <td>2019</td>\n",
       "      <td>72.611095</td>\n",
       "      <td>2.170991e+11</td>\n",
       "    </tr>\n",
       "    <tr>\n",
       "      <th>3821</th>\n",
       "      <td>Transferencias corrientes</td>\n",
       "      <td>Prestaciones para cubrir riesgos sociales</td>\n",
       "      <td>Prestaciones sociales asumidas por el gobierno</td>\n",
       "      <td>Fondo nacional de pensiones de las entidades t...</td>\n",
       "      <td>1.234510e+11</td>\n",
       "      <td>NaN</td>\n",
       "      <td>1.234510e+11</td>\n",
       "      <td>1301</td>\n",
       "      <td>Funcionamiento</td>\n",
       "      <td>Ministerio de hacienda y crédito público</td>\n",
       "      <td>...</td>\n",
       "      <td>Hacienda</td>\n",
       "      <td>NaN</td>\n",
       "      <td>NaN</td>\n",
       "      <td>3.0</td>\n",
       "      <td>4.0</td>\n",
       "      <td>3.0</td>\n",
       "      <td>001</td>\n",
       "      <td>2024</td>\n",
       "      <td>100.000000</td>\n",
       "      <td>1.234510e+11</td>\n",
       "    </tr>\n",
       "  </tbody>\n",
       "</table>\n",
       "<p>2 rows × 21 columns</p>\n",
       "</div>"
      ],
      "text/plain": [
       "                         Cuenta                                  Subcuenta  \\\n",
       "475   Transferencias corrientes                      Prestaciones sociales   \n",
       "3821  Transferencias corrientes  Prestaciones para cubrir riesgos sociales   \n",
       "\n",
       "                                              Objeto  \\\n",
       "475   Prestaciones sociales asumidas por el gobierno   \n",
       "3821  Prestaciones sociales asumidas por el gobierno   \n",
       "\n",
       "                                                Ordinal  Aporte nacional  \\\n",
       "475   Fondo nacional de pensiones de las entidades t...     1.576380e+11   \n",
       "3821  Fondo nacional de pensiones de las entidades t...     1.234510e+11   \n",
       "\n",
       "      Recursos propios         TOTAL  Código de entidad   Tipo de gasto  \\\n",
       "475                NaN  1.576380e+11               1301  Funcionamiento   \n",
       "3821               NaN  1.234510e+11               1301  Funcionamiento   \n",
       "\n",
       "                                       Entidad  ...    Sector Unidad  \\\n",
       "475   Ministerio de hacienda y crédito público  ...  Hacienda    NaN   \n",
       "3821  Ministerio de hacienda y crédito público  ...  Hacienda    NaN   \n",
       "\n",
       "      Código de unidad  Cuenta_n  Subcuenta_n  Objeto_n Ordinal_n   Año  \\\n",
       "475                NaN       3.0          4.0       3.0       1.0  2019   \n",
       "3821               NaN       3.0          4.0       3.0       001  2024   \n",
       "\n",
       "       Indice_24      Total_24  \n",
       "475    72.611095  2.170991e+11  \n",
       "3821  100.000000  1.234510e+11  \n",
       "\n",
       "[2 rows x 21 columns]"
      ]
     },
     "execution_count": 115,
     "metadata": {},
     "output_type": "execute_result"
    }
   ],
   "source": [
    "df[df['Ordinal'] == 'Fondo nacional de pensiones de las entidades territoriales ley 549 de 1999 (de pensiones)']"
   ]
  },
  {
   "cell_type": "code",
   "execution_count": null,
   "metadata": {},
   "outputs": [],
   "source": [
    "df['Sector']"
   ]
  },
  {
   "cell_type": "code",
   "execution_count": null,
   "metadata": {},
   "outputs": [],
   "source": []
  },
  {
   "cell_type": "code",
   "execution_count": 135,
   "metadata": {},
   "outputs": [],
   "source": [
    "ambiente = df[df['Entidad'] == 'Ministerio de ambiente y desarrollo sostenible']"
   ]
  },
  {
   "cell_type": "code",
   "execution_count": 150,
   "metadata": {},
   "outputs": [
    {
     "data": {
      "text/html": [
       "<div>\n",
       "<style scoped>\n",
       "    .dataframe tbody tr th:only-of-type {\n",
       "        vertical-align: middle;\n",
       "    }\n",
       "\n",
       "    .dataframe tbody tr th {\n",
       "        vertical-align: top;\n",
       "    }\n",
       "\n",
       "    .dataframe thead th {\n",
       "        text-align: right;\n",
       "    }\n",
       "</style>\n",
       "<table border=\"1\" class=\"dataframe\">\n",
       "  <thead>\n",
       "    <tr style=\"text-align: right;\">\n",
       "      <th>Año</th>\n",
       "      <th>2019</th>\n",
       "      <th>2024</th>\n",
       "      <th>diff</th>\n",
       "    </tr>\n",
       "    <tr>\n",
       "      <th>Subcuenta</th>\n",
       "      <th></th>\n",
       "      <th></th>\n",
       "      <th></th>\n",
       "    </tr>\n",
       "  </thead>\n",
       "  <tbody>\n",
       "    <tr>\n",
       "      <th>Planta de personal permanente</th>\n",
       "      <td>1.036054e+11</td>\n",
       "      <td>1.767140e+11</td>\n",
       "      <td>11.269904</td>\n",
       "    </tr>\n",
       "  </tbody>\n",
       "</table>\n",
       "</div>"
      ],
      "text/plain": [
       "Año                                    2019          2024       diff\n",
       "Subcuenta                                                           \n",
       "Planta de personal permanente  1.036054e+11  1.767140e+11  11.269904"
      ]
     },
     "execution_count": 150,
     "metadata": {},
     "output_type": "execute_result"
    }
   ],
   "source": [
    "ambiente[ambiente['Cuenta'] == 'Gastos de personal'].pivot_table(index='Subcuenta',\n",
    "                     aggfunc='sum',\n",
    "                     values='Total_24',\n",
    "                     columns='Año').assign(diff=lambda x: ((x[2024]/x[2019])**(1/5) - 1) * 100)"
   ]
  },
  {
   "cell_type": "code",
   "execution_count": null,
   "metadata": {},
   "outputs": [],
   "source": []
  }
 ],
 "metadata": {
  "kernelspec": {
   "display_name": "Python 3",
   "language": "python",
   "name": "python3"
  },
  "language_info": {
   "codemirror_mode": {
    "name": "ipython",
    "version": 3
   },
   "file_extension": ".py",
   "mimetype": "text/x-python",
   "name": "python",
   "nbconvert_exporter": "python",
   "pygments_lexer": "ipython3",
   "version": "3.12.4"
  }
 },
 "nbformat": 4,
 "nbformat_minor": 2
}
